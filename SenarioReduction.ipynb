{
 "cells": [
  {
   "cell_type": "code",
   "execution_count": 5,
   "metadata": {},
   "outputs": [
    {
     "name": "stdout",
     "output_type": "stream",
     "text": [
      "Remaining Senarios Are :\n",
      "[3, 21, 49, 67, 81, 110, 130, 146, 169, 191]\n",
      "Probabilitie are : \n",
      "[0.06, 0.115, 0.12, 0.08, 0.105, 0.12, 0.095, 0.095, 0.11, 0.1]\n",
      "objective function value is:  -4.547890784929277\n"
     ]
    },
    {
     "data": {
      "image/png": "[encoded data removed]",
      "text/plain": [
       "<Figure size 432x288 with 1 Axes>"
      ]
     },
     "metadata": {
      "needs_background": "light"
     },
     "output_type": "display_data"
    }
   ],
   "source": [
    "import pulp\n",
    "import numpy as np\n",
    "import matplotlib.pyplot as plt\n",
    "from math import *\n",
    "from pulp import *\n",
    "\n",
    "# Senario Production\n",
    "epsilon1min=1.01\n",
    "epsilon1max=1.26\n",
    "epsilon2min=1.10\n",
    "epsilon2max=1.16\n",
    "NumberOfDiscreteSenarios=200\n",
    "a=(epsilon1max-epsilon1min)/NumberOfDiscreteSenarios\n",
    "b=(epsilon2max-epsilon2min)/NumberOfDiscreteSenarios\n",
    "probabilities=[1/NumberOfDiscreteSenarios for i in range(NumberOfDiscreteSenarios)]\n",
    "AllSenarios=[]\n",
    "for i in range(1,NumberOfDiscreteSenarios+1):\n",
    "    AllSenarios.append([np.round(np.random.uniform(1.01+(i-1)*a,1.01+(i)*a) , 4),np.round(np.random.uniform(1.10+(i-1)*b,1.10+(i)*b),4)])\n",
    "\n",
    "# Senario Reduction\n",
    "def calc_dist(p1,p2):\n",
    "    return sqrt((p1[0]-p2[0])**2+(p1[1]-p2[1])**2)\n",
    "RemainingSenarios=[i for i in range(NumberOfDiscreteSenarios)]\n",
    "MinDist=[]\n",
    "for i in range(NumberOfDiscreteSenarios):\n",
    "    d=[]\n",
    "    for j in range(NumberOfDiscreteSenarios):\n",
    "        if i!=j:\n",
    "            d.append(calc_dist(AllSenarios[i],AllSenarios[j]))\n",
    "    MinDist.append(d)\n",
    "first_reduction=MinDist.index(min(MinDist))\n",
    "\n",
    "RemainingSenarios.remove(first_reduction)\n",
    "J=[first_reduction]\n",
    "BigM=1000000\n",
    "C=[BigM for i in range(NumberOfDiscreteSenarios)]\n",
    "epsilon=1.50\n",
    "iterr=0\n",
    "d=\n",
    "while True:\n",
    "    for i in RemainingSenarios:\n",
    "        for j in RemainingSenarios:\n",
    "            if i != j:\n",
    "                d.append(calc_dist(AllSenarios[i],AllSenarios[j]))\n",
    "        f=[min(d)]\n",
    "        d=[]\n",
    "        for k in J:\n",
    "            for l in RemainingSenarios:\n",
    "                if l !=i:\n",
    "                    d.append(calc_dist(AllSenarios[k],AllSenarios[l]))\n",
    "                   \n",
    "            f.append(min(d))\n",
    "            d=[]\n",
    "        C[i]=sum(f)\n",
    "    if min(C) < epsilon:\n",
    "        RemovedSenario=C.index(min(C))\n",
    "        J.append(RemovedSenario)\n",
    "        RemainingSenarios.remove(RemovedSenario)\n",
    "        iterr=iterr+1\n",
    "        \n",
    "        C=[BigM for i in range(NumberOfDiscreteSenarios)]\n",
    "    else:\n",
    "        break\n",
    "print('Remaining Senarios Are :')\n",
    "print(RemainingSenarios)\n",
    "h=[]\n",
    "v=[]\n",
    "for i in range(len(AllSenarios)):\n",
    "    h.append(AllSenarios[i][0])\n",
    "    v.append(AllSenarios[i][1])\n",
    "se_h=[]\n",
    "se_v=[]\n",
    "for i in RemainingSenarios:\n",
    "    se_h.append(AllSenarios[i][0])\n",
    "    se_v.append(AllSenarios[i][1])\n",
    "\n",
    "fig=plt.figure()\n",
    "ax=fig.add_axes([0,0,1.6,1.6])\n",
    "ax.plot(h,v,linestyle='',color='blue',marker='o',markersize=7,markeredgewidth=1.5,markeredgecolor='red')\n",
    "ax.plot(se_h,se_v,linestyle='',color='green',marker='o',markersize=15,markeredgewidth=3,markeredgecolor='yellow')\n",
    "# Assign removed senarios to remaining senarios\n",
    "assign=[[] for i in range(len(RemainingSenarios))]\n",
    "for i in J:\n",
    "    d=[]\n",
    "    for j in RemainingSenarios:\n",
    "        d.append(calc_dist(AllSenarios[i],AllSenarios[j]))\n",
    "    cluster=d.index(min(d))\n",
    "    assign[cluster].append(i)\n",
    "\n",
    "# Calculate each senario probability\n",
    "p_cluster= []\n",
    "for i in range(len(RemainingSenarios)):\n",
    "    p=[]\n",
    "    for j in assign[i]:\n",
    "        p.append(probabilities[j])\n",
    "    p.append(probabilities[i])\n",
    "    p_cluster.append(np.round(sum(p),4))\n",
    "print('Probabilitie are : ')\n",
    "print(p_cluster)\n",
    "\n",
    "# Solve the model with remaining senarios\n",
    "# Variables Definition\n",
    "x1 = LpVariable.dicts('x1',[(i)for i in range(1,3)] ,lowBound=0 , cat='Continuous')\n",
    "x2 = LpVariable.dicts('x2',[(i,s1)for i in range(1,3) for s1 in range(1,len(RemainingSenarios)+1)] , lowBound=0 , cat='Continuous')\n",
    "x3 = LpVariable.dicts('x3',[(i,s1,s2)for i in range(1,3) for s1 in range(1,len(RemainingSenarios)+1) for s2 in range(1,len(RemainingSenarios)+1)] , lowBound=0 , cat='Continuous')\n",
    "y = LpVariable.dicts('y',[(s1,s2,s3)for s1 in range(1,len(RemainingSenarios)+1) for s2 in range(1,len(RemainingSenarios)+1) for s3 in range(1,len(RemainingSenarios)+1)] , lowBound=0 , cat='Continuous')\n",
    "w = LpVariable.dicts('w',[(s1,s2,s3)for s1 in range(1,len(RemainingSenarios)+1) for s2 in range(1,len(RemainingSenarios)+1) for s3 in range(1,len(RemainingSenarios)+1)] , lowBound=0 , cat='Continuous')\n",
    "# Mathematical Model Definition\n",
    "financial_model = LpProblem(\"Financial Planning Problem\",sense=-1)\n",
    "# Objective Function Definition\n",
    "financial_model += lpSum(np.round(p_cluster[s1-1],4)*np.round(p_cluster[s2-1],4)*np.round(p_cluster[s3-1],4)*(y[(s1,s2,s3)]-4*w[(s1,s2,s3)])for s1 in range(1,len(RemainingSenarios)+1) for s2 in range(1,len(RemainingSenarios)+1) for s3 in range(1,len(RemainingSenarios)+1))\n",
    "# Constraints Definition\n",
    "financial_model += lpSum(x1[(i)]for i in range(1,3)) == 55\n",
    "\n",
    "for s1 in range(1,len(RemainingSenarios)+1):\n",
    "    financial_model += lpSum(np.round(AllSenarios[RemainingSenarios[s1-1]][i-1],4)*x1[(i)]for i in range(1,3)) == lpSum(x2[(i,s1)]for i in range(1,3))   \n",
    "for s1 in range(1,len(RemainingSenarios)+1):\n",
    "    for s2 in range(1,len(RemainingSenarios)+1):\n",
    "        financial_model += lpSum(np.round(AllSenarios[RemainingSenarios[s2-1]][i-1],4)*x2[(i,s1)]for i in range(1,3)) == lpSum(x3[(i,s1,s2)]for i in range(1,3))      \n",
    "for s1 in range(1,len(RemainingSenarios)+1):\n",
    "    for s2 in range(1,len(RemainingSenarios)+1):\n",
    "        for s3 in range(1,len(RemainingSenarios)+1):\n",
    "            financial_model += lpSum(np.round(AllSenarios[RemainingSenarios[s3-1]][i-1],2)*x3[(i,s1,s2)]for i in range(1,3)) - y[(s1,s2,s3)] + w[(s1,s2,s3)] == 80\n",
    "# Solve The Model\n",
    "status=financial_model.solve()\n",
    "print('objective function value is: ', financial_model.objective.value())\n"
   ]
  },
  {
   "cell_type": "code",
   "execution_count": null,
   "metadata": {},
   "outputs": [],
   "source": [
    "\n",
    "\n"
   ]
  },
  {
   "cell_type": "code",
   "execution_count": null,
   "metadata": {},
   "outputs": [],
   "source": []
  },
  {
   "cell_type": "code",
   "execution_count": 89,
   "metadata": {},
   "outputs": [],
   "source": []
  },
  {
   "cell_type": "code",
   "execution_count": null,
   "metadata": {},
   "outputs": [],
   "source": [
    "\n"
   ]
  },
  {
   "cell_type": "code",
   "execution_count": null,
   "metadata": {},
   "outputs": [],
   "source": []
  },
  {
   "cell_type": "code",
   "execution_count": null,
   "metadata": {},
   "outputs": [],
   "source": []
  },
  {
   "cell_type": "code",
   "execution_count": null,
   "metadata": {},
   "outputs": [],
   "source": []
  },
  {
   "cell_type": "code",
   "execution_count": null,
   "metadata": {},
   "outputs": [],
   "source": []
  },
  {
   "cell_type": "code",
   "execution_count": null,
   "metadata": {},
   "outputs": [],
   "source": []
  }
 ],
 "metadata": {
  "kernelspec": {
   "display_name": "Python 3",
   "language": "python",
   "name": "python3"
  },
  "language_info": {
   "codemirror_mode": {
    "name": "ipython",
    "version": 3
   },
   "file_extension": ".py",
   "mimetype": "text/x-python",
   "name": "python",
   "nbconvert_exporter": "python",
   "pygments_lexer": "ipython3",
   "version": "3.7.3"
  }
 },
 "nbformat": 4,
 "nbformat_minor": 2
}
